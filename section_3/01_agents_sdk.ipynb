{
  "nbformat": 4,
  "nbformat_minor": 0,
  "metadata": {
    "colab": {
      "provenance": [],
      "authorship_tag": "ABX9TyNWABXXgjxl7tlBo2ZOXC1y",
      "include_colab_link": true
    },
    "kernelspec": {
      "name": "python3",
      "display_name": "Python 3"
    },
    "language_info": {
      "name": "python"
    }
  },
  "cells": [
    {
      "cell_type": "markdown",
      "metadata": {
        "id": "view-in-github",
        "colab_type": "text"
      },
      "source": [
        "<a href=\"https://colab.research.google.com/github/yukinaga/min_gen_agent_app/blob/main/section_3/01_agents_sdk.ipynb\" target=\"_parent\"><img src=\"https://colab.research.google.com/assets/colab-badge.svg\" alt=\"Open In Colab\"/></a>"
      ]
    },
    {
      "cell_type": "markdown",
      "source": [
        "# OpenAIのAgents SDKを試してみよう！"
      ],
      "metadata": {
        "id": "VVi6sUyGRZFv"
      }
    },
    {
      "cell_type": "markdown",
      "source": [
        "## 必要パッケージのインストール"
      ],
      "metadata": {
        "id": "GCYm0QMNRg3H"
      }
    },
    {
      "cell_type": "code",
      "execution_count": null,
      "metadata": {
        "id": "lLDuxhjBgkTJ"
      },
      "outputs": [],
      "source": [
        "# ▼ Colab で必要なパッケージをインストール\n",
        "# - openai-agents: OpenAI Agents SDK 本体\n",
        "# - openai: （一部のホストツールやモデル利用に必要）\n",
        "# - nest_asyncio: ノートブック上で安全に asyncio（並行処理に必要） を動かすため\n",
        "!pip -q install --upgrade openai-agents openai nest_asyncio"
      ]
    },
    {
      "cell_type": "markdown",
      "source": [
        "Agents SDK は openai-agents というパッケージで提供されています。  \n",
        "まずはこれを入れます。  \n",
        "SDK のクイックスタートもこの構成（pip install openai-agents）を前提にしています。  \n",
        "ノートブックで非同期コード（async）を動かすために nest_asyncio を使います（後のセルで適用します）。"
      ],
      "metadata": {
        "id": "2ModcxliRrqD"
      }
    },
    {
      "cell_type": "markdown",
      "source": [
        "## APIキーの設定（Colab Secrets から取得）"
      ],
      "metadata": {
        "id": "hh2QkX9vSCa_"
      }
    },
    {
      "cell_type": "code",
      "source": [
        "# ▼ Colab の「🔑 Secrets」に事前に OPENAI_API_KEY を保存しておきます\n",
        "#   （左サイドバー > 🔑 Secrets > + New Secret > Name: OPENAI_API_KEY, Value: sk-...）\n",
        "from google.colab import userdata\n",
        "import os\n",
        "\n",
        "api_key = userdata.get('OPENAI_API_KEY')  # Secrets から取得\n",
        "if not api_key:\n",
        "    raise RuntimeError(\n",
        "        \"Colab の Secrets に OPENAI_API_KEY が見つかりません。\\n\"\n",
        "        \"左サイドバーの🔑 Secretsから 'OPENAI_API_KEY' を追加してください。\"\n",
        "    )\n",
        "\n",
        "# Agents SDK や OpenAI クライアントが参照できるように環境変数へ設定\n",
        "os.environ[\"OPENAI_API_KEY\"] = api_key\n",
        "\n",
        "print(\"✅ OPENAI_API_KEY を設定しました（値は表示しません）。\")"
      ],
      "metadata": {
        "id": "gg8GyoXPlivq"
      },
      "execution_count": null,
      "outputs": []
    },
    {
      "cell_type": "markdown",
      "source": [
        "Colab では「Secrets」から安全に読み出して `os.environ` に流し込むのが簡単＆安全です。  "
      ],
      "metadata": {
        "id": "gL6CBsxNSMXL"
      }
    },
    {
      "cell_type": "markdown",
      "source": [
        "## 最小のエージェントを作って動かす"
      ],
      "metadata": {
        "id": "r6yj5fDvSjWd"
      }
    },
    {
      "cell_type": "code",
      "source": [
        "# ▼ ノートブック内で async 関数を簡単に実行できるよう準備\n",
        "import nest_asyncio, asyncio\n",
        "nest_asyncio.apply()\n",
        "\n",
        "# ▼ Agents SDK から Agent と Runner を読み込み\n",
        "from agents import Agent, Runner\n",
        "\n",
        "# ▼ いちばんシンプルなエージェントを作成\n",
        "#   - name: エージェントの名前（ログやトレースで識別しやすく）\n",
        "#   - instructions: モデルへの役割指示（システムプロンプト相当）\n",
        "simple_agent = Agent(\n",
        "    name=\"Friendly Tutor\",\n",
        "    instructions=\"あなたは親切な家庭教師です。できるだけ分かりやすく丁寧に日本語で説明してください。\",\n",
        ")\n",
        "\n",
        "# ▼ ユーザーからの質問に答えさせる\n",
        "async def main():\n",
        "    # Runner.run(エージェント, ユーザー入力文字列)\n",
        "    result = await Runner.run(simple_agent, \"微分って何ですか？高校生にも分かるように説明して。\")\n",
        "    print(\"=== エージェントの最終出力 ===\")\n",
        "    print(result.final_output)           # 生成された最終回答テキスト\n",
        "    # print(result) とすると、ツール呼び出し等の詳細も含むリッチな結果が見られます\n",
        "\n",
        "# ノートブックでも動くように run_until_complete を利用\n",
        "asyncio.get_event_loop().run_until_complete(main())"
      ],
      "metadata": {
        "id": "v5rgZPwAJ8iD"
      },
      "execution_count": null,
      "outputs": []
    },
    {
      "cell_type": "markdown",
      "source": [
        "Agents SDK の 基本構成 は「Agent（モデル+手順+ツール）」「Runner（実行器）」。  \n",
        "まずはツールなしで会話してみます。  \n",
        "  \n",
        "結果オブジェクトの `final_output` が最終回答です。  \n",
        "詳細は SDK の「Results」や「Tracing」で確認できます（後述）。"
      ],
      "metadata": {
        "id": "FnNyj4ndSu_b"
      }
    },
    {
      "cell_type": "markdown",
      "source": [
        "## 独自ツール（関数ツール）を足す：電卓ツールの例"
      ],
      "metadata": {
        "id": "KcEH4u7gTWku"
      }
    },
    {
      "cell_type": "code",
      "source": [
        "# ▼ Function Tool を使って、エージェントが Python 関数を呼べるようにします\n",
        "from agents import function_tool, Agent, Runner\n",
        "\n",
        "@function_tool\n",
        "def calc(op: str, a: float, b: float) -> float:\n",
        "    \"\"\"\n",
        "    かんたんな電卓ツール。\n",
        "    Args:\n",
        "      op: \"add\" | \"sub\" | \"mul\" | \"div\"\n",
        "      a: 1つ目の数\n",
        "      b: 2つ目の数\n",
        "    Returns:\n",
        "      演算結果の数値\n",
        "    \"\"\"\n",
        "    if op == \"add\":\n",
        "        return a + b\n",
        "    if op == \"sub\":\n",
        "        return a - b\n",
        "    if op == \"mul\":\n",
        "        return a * b\n",
        "    if op == \"div\":\n",
        "        return a / b\n",
        "    raise ValueError(\"op は add/sub/mul/div のいずれかにしてください\")\n",
        "\n",
        "tool_agent = Agent(\n",
        "    name=\"Calc Assistant\",\n",
        "    instructions=(\n",
        "        \"あなたは質問文から必要なら calc ツールを呼び出し、\"\n",
        "        \"計算結果を日本語で分かりやすく説明します。\"\n",
        "        \"ツールを使った場合は、途中式や根拠も簡潔に示してください。\"\n",
        "    ),\n",
        "    tools=[calc],  # ← 独自ツールを渡す\n",
        ")\n",
        "\n",
        "import nest_asyncio, asyncio\n",
        "nest_asyncio.apply()\n",
        "\n",
        "async def main():\n",
        "    q = \"半径が 3 の円の面積はいくつ？（π=3.14159で計算して）\"\n",
        "    # 面積 = π * r^2 を求めるため、モデルは calc(op='mul', ...) などを自動で選ぶはずです\n",
        "    result = await Runner.run(tool_agent, q)\n",
        "    print(\"=== エージェントの最終出力 ===\")\n",
        "    print(result.final_output)\n",
        "\n",
        "asyncio.get_event_loop().run_until_complete(main())"
      ],
      "metadata": {
        "id": "yx2t1xAPKhDu"
      },
      "execution_count": null,
      "outputs": []
    },
    {
      "cell_type": "markdown",
      "source": [
        "**Function Tool** は任意の Python 関数をそのまま「ツール」として公開できます。  \n",
        "デコレーター `@function_tool` を付けるだけで、引数スキーマや説明文を自動抽出してくれます。  \n",
        "AIモデルは会話の流れから「ツールを使うべきか」を自動判断して、必要なときだけ calc を呼び出します（関数の実行はあなたのコード側で行われます）。"
      ],
      "metadata": {
        "id": "D-DwkkqZTat8"
      }
    },
    {
      "cell_type": "markdown",
      "source": [
        "## 2エージェントの「振り分け（ハンドオフ）」を体験"
      ],
      "metadata": {
        "id": "f1ejmQYdUgyN"
      }
    },
    {
      "cell_type": "code",
      "source": [
        "# ▼ 質問の内容に応じて、適切な専門家エージェントへ自動ハンドオフさせます\n",
        "from agents import Agent, Runner\n",
        "\n",
        "history_tutor = Agent(\n",
        "    name=\"History Tutor\",\n",
        "    handoff_description=\"歴史に関する質問を専門に扱うエージェント\",\n",
        "    instructions=\"歴史的な出来事や人物を、背景も含めて丁寧に説明してください。\"\n",
        ")\n",
        "\n",
        "math_tutor = Agent(\n",
        "    name=\"Math Tutor\",\n",
        "    handoff_description=\"数学に関する質問を専門に扱うエージェント\",\n",
        "    instructions=\"数式や例を使って、段階的にやさしく解説してください。\"\n",
        ")\n",
        "\n",
        "triage = Agent(\n",
        "    name=\"Triage Agent\",\n",
        "    instructions=\"ユーザーの質問内容を見て、history_tutor または math_tutor のどちらに渡すか判断します。\",\n",
        "    handoffs=[history_tutor, math_tutor],  # ← 候補先を列挙\n",
        ")\n",
        "\n",
        "import nest_asyncio, asyncio\n",
        "nest_asyncio.apply()\n",
        "\n",
        "async def main():\n",
        "    # 歴史寄りの質問\n",
        "    r1 = await Runner.run(triage, \"織田信長が日本史に与えた影響を教えて\")\n",
        "    print(\"【歴史寄りの質問】\\n\", r1.final_output, \"\\n\")\n",
        "\n",
        "    # 数学寄りの質問\n",
        "    r2 = await Runner.run(triage, \"微分と積分の違いを、高校生向けに例を出して説明して\")\n",
        "    print(\"【数学寄りの質問】\\n\", r2.final_output)\n",
        "\n",
        "asyncio.get_event_loop().run_until_complete(main())"
      ],
      "metadata": {
        "id": "Jm4ikTGbMW4K"
      },
      "execution_count": null,
      "outputs": []
    },
    {
      "cell_type": "markdown",
      "source": [
        "Agents SDK は「複数エージェントのオーケストレーション」を簡単に扱えます。  \n",
        "上の例では Triage（振り分け） エージェントが、質問内容を見て専門家へ ハンドオフ します。  \n",
        "大きなアプリでは、さらにガードレール（不適切入力の遮断）やトレース（実行の可視化）を組み合わせます。  "
      ],
      "metadata": {
        "id": "jH-burYEUpQx"
      }
    },
    {
      "cell_type": "markdown",
      "source": [
        "## ホストツールを使う：Web 検索の付与"
      ],
      "metadata": {
        "id": "gamYKTnrVOrW"
      }
    },
    {
      "cell_type": "code",
      "source": [
        "# ▼ Web 検索ツールを付けたエージェント（権限があるアカウントで利用可能）\n",
        "from agents import Agent, Runner, WebSearchTool\n",
        "\n",
        "web_agent = Agent(\n",
        "    name=\"Web Helper\",\n",
        "    instructions=\"質問に対して、最新の公的情報・一次情報にあたって回答します。根拠リンクも列挙してください。\",\n",
        "    tools=[WebSearchTool()],  # ← これだけで Web 検索が使えるようになります\n",
        ")\n",
        "\n",
        "import nest_asyncio, asyncio\n",
        "nest_asyncio.apply()\n",
        "\n",
        "async def main():\n",
        "    q = \"直近のノーベル賞（物理学賞）の受賞テーマを教えて。要点を3つに整理して。\"\n",
        "    result = await Runner.run(web_agent, q)\n",
        "    print(result.final_output)   # 検索の要約＋根拠を期待\n",
        "\n",
        "asyncio.get_event_loop().run_until_complete(main())"
      ],
      "metadata": {
        "id": "yALT-l6YMtlL"
      },
      "execution_count": null,
      "outputs": []
    },
    {
      "cell_type": "markdown",
      "source": [
        "「Hosted tools」は WebSearch / FileSearch / Code Interpreter / Computer Use / 画像生成 / Hosted MCP などがあり、`Agent(..., tools=[ ... ])` へ追加するだけで利用できます。  \n",
        "実行は OpenAI 側で自動処理され、結果が会話へ反映されます。"
      ],
      "metadata": {
        "id": "ZUnEM3INWeKh"
      }
    },
    {
      "cell_type": "markdown",
      "source": [
        "## 実行の可視化（トレース）を見る\n",
        "実行の流れ（どのエージェントが使われ、どのツールが呼ばれたか等）は OpenAI ダッシュボードの「Logs/Traces」 で確認できます。開発・デバッグに便利です。"
      ],
      "metadata": {
        "id": "7VYNcRzVWmeg"
      }
    }
  ]
}