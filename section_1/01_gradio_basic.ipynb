{
  "nbformat": 4,
  "nbformat_minor": 0,
  "metadata": {
    "colab": {
      "provenance": [],
      "include_colab_link": true
    },
    "kernelspec": {
      "name": "python3",
      "display_name": "Python 3"
    },
    "language_info": {
      "name": "python"
    }
  },
  "cells": [
    {
      "cell_type": "markdown",
      "metadata": {
        "id": "view-in-github",
        "colab_type": "text"
      },
      "source": [
        "<a href=\"https://colab.research.google.com/github/yukinaga/min_gen_agent_app/blob/main/section_1/01_gradio_basic.ipynb\" target=\"_parent\"><img src=\"https://colab.research.google.com/assets/colab-badge.svg\" alt=\"Open In Colab\"/></a>"
      ]
    },
    {
      "cell_type": "markdown",
      "source": [
        "## 1. Gradioのインストール\n",
        "\n",
        "まずは、Gradioライブラリをインストールします。以下のセルを実行してください。"
      ],
      "metadata": {
        "id": "part_1_intro"
      }
    },
    {
      "cell_type": "code",
      "source": [
        "!pip install gradio -q"
      ],
      "metadata": {
        "id": "install_gradio"
      },
      "execution_count": null,
      "outputs": []
    },
    {
      "cell_type": "markdown",
      "source": [
        "## 2. 最初のGradioアプリ\n",
        "\n",
        "Gradioの最も基本的な要素は `gr.Interface` です。これを使うと、どんなPython関数でもUIに変換できます。\n",
        "\n",
        "`gr.Interface` には主に3つの引数を渡します。\n",
        "- `fn`: UIの裏側で動かすPython関数\n",
        "- `inputs`: 入力用のUIコンポーネント（テキストボックス、スライダーなど）\n",
        "- `outputs`: 出力用のUIコンポーネント\n",
        "\n",
        "では、名前に挨拶を返す簡単な関数で試してみましょう。"
      ],
      "metadata": {
        "id": "part_2_intro"
      }
    },
    {
      "cell_type": "code",
      "source": [
        "import gradio as gr\n",
        "\n",
        "# UIの裏側で動かす関数を定義\n",
        "def greet(name):\n",
        "    return \"こんにちは、\" + name + \"さん！\"\n",
        "\n",
        "# Interfaceを作成\n",
        "demo = gr.Interface(\n",
        "    fn=greet,\n",
        "    inputs=\"text\",  # 入力はテキストボックス\n",
        "    outputs=\"text\" # 出力もテキストボックス\n",
        ")\n",
        "\n",
        "# アプリを起動\n",
        "demo.launch()"
      ],
      "metadata": {
        "id": "first_app_code"
      },
      "execution_count": null,
      "outputs": []
    },
    {
      "cell_type": "markdown",
      "source": [
        "上のセルを実行すると、出力部分にWeb UIが表示されます。\n",
        "テキストボックスにあなたの名前を入力して「Submit」ボタンを押してみてください。"
      ],
      "metadata": {
        "id": "first_app_desc"
      }
    },
    {
      "cell_type": "markdown",
      "source": [
        "## 3. 様々なUIコンポーネント\n",
        "\n",
        "Gradioには、テキストボックス以外にもたくさんのUIコンポーネントが用意されています。いくつか試してみましょう。"
      ],
      "metadata": {
        "id": "part_3_intro"
      }
    },
    {
      "cell_type": "markdown",
      "source": [
        "### 例1: スライダーとチェックボックス\n",
        "\n",
        "複数の入力コンポーネントを使うこともできます。その場合は、`inputs`引数にリストで渡します。"
      ],
      "metadata": {
        "id": "part_3_ex1_intro"
      }
    },
    {
      "cell_type": "code",
      "source": [
        "import gradio as gr\n",
        "\n",
        "def calculate(num, is_double):\n",
        "    if is_double:\n",
        "        return num * 2\n",
        "    else:\n",
        "        return num\n",
        "\n",
        "demo = gr.Interface(\n",
        "    fn=calculate,\n",
        "    inputs=[\n",
        "        gr.Slider(minimum=0, maximum=100, label=\"数値\"), # スライダー\n",
        "        gr.Checkbox(label=\"2倍にする\") # チェックボックス\n",
        "    ],\n",
        "    outputs=\"number\" # 出力は数値\n",
        ")\n",
        "\n",
        "demo.launch()"
      ],
      "metadata": {
        "id": "part_3_ex1_code"
      },
      "execution_count": null,
      "outputs": []
    },
    {
      "cell_type": "markdown",
      "source": [
        "### 例2: 画像の入出力\n",
        "\n",
        "画像を入力として受け取り、加工して出力することも簡単です。"
      ],
      "metadata": {
        "id": "part_3_ex2_intro"
      }
    },
    {
      "cell_type": "code",
      "source": [
        "import gradio as gr\n",
        "from PIL import Image\n",
        "import numpy as np\n",
        "\n",
        "# 画像をグレースケールに変換する関数\n",
        "def to_grayscale(image):\n",
        "    # Gradioから渡される画像はNumpy配列\n",
        "    img_pil = Image.fromarray(image.astype('uint8'), 'RGB')\n",
        "    gray_img = img_pil.convert('L')\n",
        "    return gray_img\n",
        "\n",
        "demo = gr.Interface(\n",
        "    fn=to_grayscale,\n",
        "    inputs=gr.Image(type=\"numpy\", label=\"カラー画像\"), # 画像アップロード\n",
        "    outputs=gr.Image(label=\"グレースケール画像\") # 画像表示\n",
        ")\n",
        "\n",
        "demo.launch()"
      ],
      "metadata": {
        "id": "part_3_ex2_code"
      },
      "execution_count": null,
      "outputs": []
    },
    {
      "cell_type": "markdown",
      "source": [
        "## 4. 実践的な例：簡単な画像分類アプリ\n",
        "\n",
        "最後に、実際の機械学習モデルとGradioを連携させてみましょう。\n",
        "ここでは、Googleの学習済みモデルを使って、画像を分類するUIを作成します。"
      ],
      "metadata": {
        "id": "part_4_intro"
      }
    },
    {
      "cell_type": "code",
      "source": [
        "# transformersライブラリをインストール\n",
        "!pip install transformers torch -q"
      ],
      "metadata": {
        "id": "part_4_install"
      },
      "execution_count": null,
      "outputs": []
    },
    {
      "cell_type": "code",
      "source": [
        "import gradio as gr\n",
        "from transformers import pipeline\n",
        "\n",
        "# 画像分類のモデルを導入 (google/vit-base-patch16-224)\n",
        "classifier = pipeline(\"image-classification\", model=\"google/vit-base-patch16-224\")\n",
        "\n",
        "# 推論を実行し、結果を整形する関数（変更なし）\n",
        "def classify_image(image):\n",
        "    predictions = classifier(image)\n",
        "    return {p[\"label\"]: p[\"score\"] for p in predictions}\n",
        "\n",
        "demo = gr.Interface(\n",
        "    fn=classify_image,\n",
        "    inputs=gr.Image(type=\"pil\", label=\"画像をアップロード\"),\n",
        "    # 表示する予測結果の数を5に増やして、より多くの可能性を見れるようにします\n",
        "    outputs=gr.Label(num_top_classes=5, label=\"予測結果\"),\n",
        "    title=\"画像分類器 (修正版)\",\n",
        "    description=\"犬や猫などの画像をアップロードすると、AIがそれが何であるかを予測します。\"\n",
        ")\n",
        "\n",
        "demo.launch()"
      ],
      "metadata": {
        "id": "part_4_code"
      },
      "execution_count": null,
      "outputs": []
    },
    {
      "cell_type": "markdown",
      "source": [
        "## 5. アプリの共有\n",
        "\n",
        "作成したGradioアプリは、`launch()`メソッドに `share=True` を追加するだけで、一時的な公開リンクを生成し、他の人と共有できます。\n",
        "\n",
        "（注：このリンクは72時間で無効になります。また、Colabのセッションが切れるとリンクも使えなくなります）"
      ],
      "metadata": {
        "id": "part_5_intro"
      }
    },
    {
      "cell_type": "code",
      "source": [
        "import gradio as gr\n",
        "\n",
        "def greet(name):\n",
        "    return \"こんにちは、\" + name + \"さん！\"\n",
        "\n",
        "demo = gr.Interface(fn=greet, inputs=\"text\", outputs=\"text\")\n",
        "\n",
        "# share=True を追加！\n",
        "demo.launch(share=True)"
      ],
      "metadata": {
        "id": "part_5_code"
      },
      "execution_count": null,
      "outputs": []
    },
    {
      "cell_type": "markdown",
      "source": [
        "これでGradioの基本はマスターです！\n",
        "より複雑なレイアウトを組みたい場合は `gr.Blocks` を調べてみてください。\n",
        "\n",
        "お疲れ様でした！"
      ],
      "metadata": {
        "id": "conclusion"
      }
    }
  ]
}