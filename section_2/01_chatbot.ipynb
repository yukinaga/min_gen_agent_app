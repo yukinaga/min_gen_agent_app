{
  "nbformat": 4,
  "nbformat_minor": 0,
  "metadata": {
    "colab": {
      "provenance": [],
      "authorship_tag": "ABX9TyNmWge7NfBFUzWArq5X5tNt",
      "include_colab_link": true
    },
    "kernelspec": {
      "name": "python3",
      "display_name": "Python 3"
    },
    "language_info": {
      "name": "python"
    }
  },
  "cells": [
    {
      "cell_type": "markdown",
      "metadata": {
        "id": "view-in-github",
        "colab_type": "text"
      },
      "source": [
        "<a href=\"https://colab.research.google.com/github/yukinaga/min_gen_agent_app/blob/main/section_2/01_chatbot.ipynb\" target=\"_parent\"><img src=\"https://colab.research.google.com/assets/colab-badge.svg\" alt=\"Open In Colab\"/></a>"
      ]
    },
    {
      "cell_type": "markdown",
      "source": [
        "# チャットボットアプリ"
      ],
      "metadata": {
        "id": "MAzZh9XdzAYo"
      }
    },
    {
      "cell_type": "code",
      "execution_count": null,
      "metadata": {
        "id": "vI3MWxCUuuiv"
      },
      "outputs": [],
      "source": [
        "#================================================================\n",
        "# 1. 必要なライブラリのインストール\n",
        "#================================================================\n",
        "# OpenAIのAPIを利用するためのライブラリと、\n",
        "# Web UIを簡単に作成するためのGradioをインストールします。\n",
        "# 先頭の `!` は、Colaboratory上でターミナルコマンドを実行するためのおまじないです。\n",
        "!pip install openai gradio\n",
        "\n",
        "#================================================================\n",
        "# 2. ライブラリのインポートとAPIキーの設定\n",
        "#================================================================\n",
        "import openai  # OpenAIライブラリ\n",
        "import gradio as gr  # Gradioライブラリ\n",
        "from google.colab import userdata  # Colaboratoryのシークレットを読み込むためのライブラリ\n",
        "\n",
        "# シークレットに保存したAPIキーを安全に読み込みます。\n",
        "# 'OPENAI_API_KEY' は、先ほどシークレットに設定した「名前」と一致している必要があります。\n",
        "try:\n",
        "    openai.api_key = userdata.get('OPENAI_API_KEY')\n",
        "    # OpenAIライブラリの新しいバージョン(v1.0.0以降)では、このようにクライアントを作成します。\n",
        "    client = openai.OpenAI(api_key=openai.api_key)\n",
        "except Exception as e:\n",
        "    # APIキーの読み込みに失敗した場合にエラーメッセージを表示します。\n",
        "    print(\"APIキーの読み込みに失敗しました。Colaboratoryのシークレット設定を確認してください。\")\n",
        "    print(f\"エラー詳細: {e}\")\n",
        "    client = None # エラーが発生した場合はクライアントをNoneに設定\n",
        "\n",
        "#================================================================\n",
        "# 3. AIとの対話を行う関数を定義\n",
        "#================================================================\n",
        "# この関数がチャットボットの心臓部です。\n",
        "# ユーザーからのメッセージ(message)と、今までの会話履歴(history)を受け取ります。\n",
        "def chat_function(message, history):\n",
        "    # APIキーが正しく設定されていない場合は、エラーメッセージを返して処理を中断します。\n",
        "    if client is None:\n",
        "        history.append([message, \"エラー: OpenAIクライアントが初期化されていません。APIキーの設定を確認してください。\"])\n",
        "        # 入力欄をクリアし、エラーメッセージを表示した履歴を返します。\n",
        "        return \"\", history\n",
        "\n",
        "    # OpenAI APIが要求する形式に、今までの会話履歴を変換します。\n",
        "    # Gradioの履歴は [[ユーザー1, AI1], [ユーザー2, AI2]] という形式です。\n",
        "    # これを [{\"role\": \"user\", \"content\": ...}, {\"role\": \"assistant\", \"content\": ...}] の形式に直します。\n",
        "    messages = []\n",
        "    for user_msg, assistant_msg in history:\n",
        "        messages.append({\"role\": \"user\", \"content\": user_msg})\n",
        "        messages.append({\"role\": \"assistant\", \"content\": assistant_msg})\n",
        "\n",
        "    # 最新のユーザーメッセージを会話履歴に追加します。\n",
        "    messages.append({\"role\": \"user\", \"content\": message})\n",
        "\n",
        "    try:\n",
        "        # OpenAIのChatCompletion APIを呼び出します。\n",
        "        response = client.chat.completions.create(\n",
        "            model=\"gpt-3.5-turbo\",  # 使用するAIモデルを指定します。より高性能な \"gpt-4\" なども利用可能です。\n",
        "            messages=messages,      # 変換した会話履歴を渡します。\n",
        "            stream=True             # stream=Trueにすると、AIが文章を生成する過程をリアルタイムで受け取れます。\n",
        "        )\n",
        "\n",
        "        # AIからの返答を少しずつ結合していくための、空の文字列を用意します。\n",
        "        bot_message = \"\"\n",
        "        # stream形式で返ってくるレスポンスを一つずつ処理します。\n",
        "        for chunk in response:\n",
        "            # 返答の文章が含まれている場合のみ処理を続けます。\n",
        "            if chunk.choices[0].delta.content is not None:\n",
        "                # 返答の断片を追記していきます。\n",
        "                bot_message += chunk.choices[0].delta.content\n",
        "                # GradioのUIに2つの値を返します。\n",
        "                # 1. 空文字列 \"\": 入力用テキストボックス(msg)に渡され、入力欄がクリアされます。\n",
        "                # 2. 更新された会話履歴: チャット表示欄(chatbot)に渡され、AIの返信がリアルタイムで表示されます。\n",
        "                yield \"\", history + [[message, bot_message]]\n",
        "\n",
        "    except Exception as e:\n",
        "        # API呼び出し中にエラーが発生した場合の処理\n",
        "        print(f\"API呼び出し中にエラーが発生しました: {e}\")\n",
        "        # ユーザーにエラーが発生したことを知らせます。\n",
        "        yield \"\", history + [[message, f\"エラーが発生しました: {e}\"]]\n",
        "\n",
        "#================================================================\n",
        "# 4. Gradioを使ってWeb UIを作成・起動\n",
        "#================================================================\n",
        "# gr.Blocks() を使うと、コンポーネントを自由に配置してリッチなUIを構築できます。\n",
        "with gr.Blocks(theme=gr.themes.Soft()) as demo:\n",
        "    # gr.Markdown() を使って、画面に説明文を表示します。#は大きな見出しを意味します。\n",
        "    gr.Markdown(\"# シンプルAIチャットボット\\nOpenAI APIとGradioを使って作成しました。\")\n",
        "\n",
        "    # gr.Chatbot() で、チャットの履歴を表示するコンポーネントを作成します。\n",
        "    chatbot = gr.Chatbot(height=500, label=\"Chatbot\")\n",
        "\n",
        "    # gr.Textbox() で、ユーザーがメッセージを入力するテキストボックスを作成します。\n",
        "    msg = gr.Textbox(label=\"あなたのメッセージ\", placeholder=\"ここにメッセージを入力してEnterキーを押してください...\")\n",
        "\n",
        "    # gr.ClearButton() で、チャット履歴と入力欄をクリアするボタンを作成します。\n",
        "    clear = gr.ClearButton([msg, chatbot], value=\"会話をリセット\")\n",
        "\n",
        "    # ユーザーがメッセージを送信したときの動作を定義します。\n",
        "    # msg(テキストボックス)でEnterキーが押される(submit)と、以下の処理が実行されます。\n",
        "    # 1. `chat_function` を呼び出す。\n",
        "    # 2. `inputs`で指定された[msg, chatbot]の内容を、関数の引数(message, history)として渡す。\n",
        "    # 3. `outputs`で指定された[msg, chatbot]に、関数の戻り値を設定してUIを更新する。\n",
        "    msg.submit(chat_function, inputs=[msg, chatbot], outputs=[msg, chatbot])\n",
        "\n",
        "# demo.launch() で、作成したUIを起動します。\n",
        "# debug=True にすると、エラーが発生したときに詳細な情報を確認できるため開発に便利です。\n",
        "demo.launch(debug=True)"
      ]
    }
  ]
}