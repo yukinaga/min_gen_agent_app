{
  "nbformat": 4,
  "nbformat_minor": 0,
  "metadata": {
    "colab": {
      "provenance": [],
      "authorship_tag": "ABX9TyO+gJlFglJC5RecvpVY1EOl",
      "include_colab_link": true
    },
    "kernelspec": {
      "name": "python3",
      "display_name": "Python 3"
    },
    "language_info": {
      "name": "python"
    }
  },
  "cells": [
    {
      "cell_type": "markdown",
      "metadata": {
        "id": "view-in-github",
        "colab_type": "text"
      },
      "source": [
        "<a href=\"https://colab.research.google.com/github/yukinaga/min_gen_agent_app/blob/main/section_2/02_image_generation.ipynb\" target=\"_parent\"><img src=\"https://colab.research.google.com/assets/colab-badge.svg\" alt=\"Open In Colab\"/></a>"
      ]
    },
    {
      "cell_type": "markdown",
      "source": [
        "# 画像生成アプリ"
      ],
      "metadata": {
        "id": "tbHh19JMEeQs"
      }
    },
    {
      "cell_type": "code",
      "execution_count": null,
      "metadata": {
        "id": "-lo3GmRMAwQd"
      },
      "outputs": [],
      "source": [
        "#================================================================\n",
        "# 1. 必要なライブラリのインストール\n",
        "#================================================================\n",
        "# OpenAIのAPIを利用するためのライブラリと、\n",
        "# Web UIを簡単に作成するためのGradioをインストールします。\n",
        "# ! は、Colaboratoryのセルでターミナルコマンドを実行するためのおまじないです。\n",
        "!pip install openai gradio\n",
        "\n",
        "#================================================================\n",
        "# 2. ライブラリのインポートとAPIキーの設定\n",
        "#================================================================\n",
        "import openai  # OpenAIライブラリ\n",
        "import gradio as gr  # Gradioライブラリ\n",
        "from google.colab import userdata  # Colaboratoryのシークレットを読み込むためのライブラリ\n",
        "\n",
        "# シークレットに保存したAPIキーを安全に読み込みます。\n",
        "# 'OPENAI_API_KEY' は、先ほどシークレットに設定した「名前」と一致している必要があります。\n",
        "try:\n",
        "    openai.api_key = userdata.get('OPENAI_API_KEY')\n",
        "    # OpenAIライブラリの新しいバージョン(v1.0.0以降)では、このようにクライアントを作成します。\n",
        "    client = openai.OpenAI(api_key=openai.api_key)\n",
        "except Exception as e:\n",
        "    # APIキーの読み込みに失敗した場合にエラーメッセージを表示します。\n",
        "    print(\"APIキーの読み込みに失敗しました。Colaboratoryのシークレット設定を確認してください。\")\n",
        "    print(f\"エラー詳細: {e}\")\n",
        "    client = None # エラーが発生した場合はクライアントをNoneに設定\n",
        "\n",
        "#================================================================\n",
        "# 3. 画像生成を行う関数を定義\n",
        "#================================================================\n",
        "# この関数がDALL-Eを使って画像を生成する部分です。\n",
        "# ユーザーが入力したテキスト（プロンプト）を受け取ります。\n",
        "def generate_image(prompt):\n",
        "    # APIキーが正しく設定されていない場合は、エラーメッセージを返します。\n",
        "    if client is None:\n",
        "        return None, \"エラー: OpenAIクライアントが初期化されていません。APIキーの設定を確認してください。\"\n",
        "\n",
        "    # プロンプトが空の場合もエラーとします。\n",
        "    if not prompt:\n",
        "        return None, \"プロンプトを入力してください。\"\n",
        "\n",
        "    try:\n",
        "        # OpenAIのDALL-Eモデルを呼び出して画像を生成します。\n",
        "        response = client.images.generate(\n",
        "            model=\"dall-e-3\",  # 使用するDALL-Eモデルを指定します。今回は `dall-e-3` を使用します。\n",
        "            prompt=prompt,      # ユーザーが入力した画像の説明文（プロンプト）\n",
        "            size=\"1024x1024\",   # 生成する画像のサイズ。`dall-e-3` では 1024x1024, 1792x1024, 1024x1792 が選択可能です。\n",
        "            quality=\"standard\", # 画像の品質。\"standard\" または \"hd\" (高画質) が選択可能ですが、hdはコストが高くなります。\n",
        "            n=1                 # 生成する画像の枚数。現在は1枚のみ対応しています。\n",
        "        )\n",
        "\n",
        "        # 生成された画像のURLを取得します。\n",
        "        image_url = response.data[0].url\n",
        "        # 成功メッセージと共に画像のURLを返します。\n",
        "        return image_url, \"画像を生成しました！\"\n",
        "\n",
        "    except openai.APIError as e:\n",
        "        # OpenAI API固有のエラーが発生した場合\n",
        "        print(f\"OpenAI APIエラーが発生しました: {e}\")\n",
        "        return None, f\"画像を生成できませんでした。APIエラー: {e}\"\n",
        "    except Exception as e:\n",
        "        # その他のエラーが発生した場合\n",
        "        print(f\"画像生成中に予期せぬエラーが発生しました: {e}\")\n",
        "        return None, f\"画像を生成できませんでした。エラー: {e}\"\n",
        "\n",
        "#================================================================\n",
        "# 4. Gradioを使ってWeb UIを作成・起動\n",
        "#================================================================\n",
        "# gr.Blocks() を使うと、コンポーネントを自由に配置してリッチなUIを構築できます。\n",
        "with gr.Blocks(theme=gr.themes.Soft()) as demo:\n",
        "    # gr.Markdown() を使って、画面に説明文を表示します。\n",
        "    gr.Markdown(\"# AI画像生成アプリ\\nOpenAI DALL-EとGradioを使って、あなたのアイデアを画像にします！\")\n",
        "\n",
        "    # ユーザーがプロンプトを入力するテキストボックス\n",
        "    # placeholderは、入力欄に薄く表示されるヒントテキストです。\n",
        "    prompt_input = gr.Textbox(\n",
        "        label=\"生成したい画像の説明（プロンプト）\",\n",
        "        placeholder=\"例: 青い空の下、白い雲と鮮やかな緑の丘がある牧歌的な風景\",\n",
        "        lines=3 # 複数行入力できるようにします\n",
        "    )\n",
        "\n",
        "    # 画像生成を開始するボタン\n",
        "    generate_button = gr.Button(\"画像を生成\")\n",
        "\n",
        "    # 生成された画像を表示するコンポーネント\n",
        "    # value=None は初期状態では何も表示しないことを意味します。\n",
        "    generated_image = gr.Image(label=\"生成された画像\", value=None)\n",
        "\n",
        "    # ステータスやエラーメッセージを表示するテキストボックス\n",
        "    status_output = gr.Textbox(label=\"ステータス\", interactive=False) # interactive=Falseでユーザーが編集できないようにします\n",
        "\n",
        "    # ボタンがクリックされたときの動作を定義します。\n",
        "    # generate_buttonがクリックされると `generate_image` 関数が呼び出されます。\n",
        "    # inputs: generate_image関数に渡す引数（prompt_inputの値）\n",
        "    # outputs: generate_image関数の戻り値（画像URLとステータスメッセージ）を受け取るコンポーネント\n",
        "    generate_button.click(\n",
        "        fn=generate_image,\n",
        "        inputs=[prompt_input],\n",
        "        outputs=[generated_image, status_output]\n",
        "    )\n",
        "\n",
        "# demo.launch() で、作成したUIを起動します。\n",
        "# debug=True にすると、エラー発生時に詳細な情報を確認できるため開発に便利です。\n",
        "demo.launch(debug=True)"
      ]
    }
  ]
}